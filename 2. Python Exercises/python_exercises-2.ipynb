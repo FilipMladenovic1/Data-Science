{
 "cells": [
  {
   "cell_type": "code",
   "execution_count": 1,
   "metadata": {},
   "outputs": [
    {
     "data": {
      "text/html": [
       "<div>\n",
       "<style scoped>\n",
       "    .dataframe tbody tr th:only-of-type {\n",
       "        vertical-align: middle;\n",
       "    }\n",
       "\n",
       "    .dataframe tbody tr th {\n",
       "        vertical-align: top;\n",
       "    }\n",
       "\n",
       "    .dataframe thead th {\n",
       "        text-align: right;\n",
       "    }\n",
       "</style>\n",
       "<table border=\"1\" class=\"dataframe\">\n",
       "  <thead>\n",
       "    <tr style=\"text-align: right;\">\n",
       "      <th></th>\n",
       "      <th>Name</th>\n",
       "      <th>Population</th>\n",
       "      <th>Area</th>\n",
       "      <th>GDP</th>\n",
       "      <th>Currency</th>\n",
       "    </tr>\n",
       "  </thead>\n",
       "  <tbody>\n",
       "    <tr>\n",
       "      <th>0</th>\n",
       "      <td>Germany</td>\n",
       "      <td>82521653</td>\n",
       "      <td>357385</td>\n",
       "      <td>3466.0</td>\n",
       "      <td>EUR</td>\n",
       "    </tr>\n",
       "    <tr>\n",
       "      <th>1</th>\n",
       "      <td>Japan</td>\n",
       "      <td>126045000</td>\n",
       "      <td>377835</td>\n",
       "      <td>4938.0</td>\n",
       "      <td>YEN</td>\n",
       "    </tr>\n",
       "    <tr>\n",
       "      <th>2</th>\n",
       "      <td>Canada</td>\n",
       "      <td>36503097</td>\n",
       "      <td>9984670</td>\n",
       "      <td>1529.0</td>\n",
       "      <td>CAD</td>\n",
       "    </tr>\n",
       "    <tr>\n",
       "      <th>3</th>\n",
       "      <td>Italy</td>\n",
       "      <td>60501718</td>\n",
       "      <td>301338</td>\n",
       "      <td>1850.0</td>\n",
       "      <td>EUR</td>\n",
       "    </tr>\n",
       "    <tr>\n",
       "      <th>4</th>\n",
       "      <td>Brazilia</td>\n",
       "      <td>208360000</td>\n",
       "      <td>8515770</td>\n",
       "      <td>1798.0</td>\n",
       "      <td>REAL</td>\n",
       "    </tr>\n",
       "    <tr>\n",
       "      <th>5</th>\n",
       "      <td>Taiwan</td>\n",
       "      <td>23938272</td>\n",
       "      <td>36197</td>\n",
       "      <td>744.0</td>\n",
       "      <td>NTD</td>\n",
       "    </tr>\n",
       "    <tr>\n",
       "      <th>6</th>\n",
       "      <td>Venezuela</td>\n",
       "      <td>28208977</td>\n",
       "      <td>912050</td>\n",
       "      <td>NaN</td>\n",
       "      <td>VED</td>\n",
       "    </tr>\n",
       "  </tbody>\n",
       "</table>\n",
       "</div>"
      ],
      "text/plain": [
       "        Name  Population     Area     GDP Currency\n",
       "0    Germany    82521653   357385  3466.0      EUR\n",
       "1      Japan   126045000   377835  4938.0      YEN\n",
       "2     Canada    36503097  9984670  1529.0      CAD\n",
       "3      Italy    60501718   301338  1850.0      EUR\n",
       "4   Brazilia   208360000  8515770  1798.0     REAL\n",
       "5     Taiwan    23938272    36197   744.0      NTD\n",
       "6  Venezuela    28208977   912050     NaN      VED"
      ]
     },
     "execution_count": 1,
     "metadata": {},
     "output_type": "execute_result"
    }
   ],
   "source": [
    "# Q2: Do the following exercise in a Jupyter Notebook\n",
    "# Load the countries.csv directly via URL import into your panda data frame!\n",
    "import pandas as pd\n",
    "\n",
    "# URL of the countries.csv file\n",
    "url = \"https://raw.githubusercontent.com/WHPAN0108/BHT-DataScience-S23/main/python-DS/country.csv\"\n",
    "\n",
    "# Read the CSV file directly from the URL into a pandas DataFrame\n",
    "df = pd.read_csv(url)\n",
    "\n",
    "# Set option to display all rows\n",
    "pd.set_option('display.max_rows', None)\n",
    "\n",
    "# Display the DataFrame\n",
    "df"
   ]
  },
  {
   "cell_type": "code",
   "execution_count": 2,
   "metadata": {},
   "outputs": [
    {
     "data": {
      "text/plain": [
       "Name          7\n",
       "Population    7\n",
       "Area          7\n",
       "GDP           6\n",
       "Currency      7\n",
       "dtype: int64"
      ]
     },
     "execution_count": 2,
     "metadata": {},
     "output_type": "execute_result"
    }
   ],
   "source": [
    "# Display descriptive statistics for the numerical column (count)\n",
    "df.count(0)"
   ]
  },
  {
   "cell_type": "code",
   "execution_count": 3,
   "metadata": {},
   "outputs": [
    {
     "data": {
      "text/plain": [
       "0    5\n",
       "1    5\n",
       "2    5\n",
       "3    5\n",
       "4    5\n",
       "5    5\n",
       "6    4\n",
       "dtype: int64"
      ]
     },
     "execution_count": 3,
     "metadata": {},
     "output_type": "execute_result"
    }
   ],
   "source": [
    "# Display descriptive statistics for the numerical column (count)\n",
    "df.count(1)"
   ]
  },
  {
   "cell_type": "code",
   "execution_count": 4,
   "metadata": {},
   "outputs": [
    {
     "name": "stdout",
     "output_type": "stream",
     "text": [
      "Population    8.086839e+07\n",
      "Area          2.926464e+06\n",
      "GDP           2.387500e+03\n",
      "dtype: float64\n"
     ]
    }
   ],
   "source": [
    "# Display descriptive statistics for the numerical column (mean)\n",
    "mean_values = df[['Population', 'Area', 'GDP']].mean()\n",
    "\n",
    "print(mean_values)"
   ]
  },
  {
   "cell_type": "code",
   "execution_count": 5,
   "metadata": {},
   "outputs": [
    {
     "name": "stdout",
     "output_type": "stream",
     "text": [
      "Population    6.670195e+07\n",
      "Area          4.348507e+06\n",
      "GDP           1.532498e+03\n",
      "dtype: float64\n"
     ]
    }
   ],
   "source": [
    "# Display descriptive statistics for the numerical column (std)\n",
    "std_values = df[['Population', 'Area', 'GDP']].std()\n",
    "\n",
    "print(std_values)"
   ]
  },
  {
   "cell_type": "code",
   "execution_count": 6,
   "metadata": {},
   "outputs": [
    {
     "name": "stdout",
     "output_type": "stream",
     "text": [
      "Population    23938272.0\n",
      "Area             36197.0\n",
      "GDP                744.0\n",
      "dtype: float64\n"
     ]
    }
   ],
   "source": [
    "# Display descriptive statistics for the numerical column (min)\n",
    "min_values = df[['Population', 'Area', 'GDP']].min()\n",
    "\n",
    "print(min_values)"
   ]
  },
  {
   "cell_type": "code",
   "execution_count": 7,
   "metadata": {},
   "outputs": [
    {
     "name": "stdout",
     "output_type": "stream",
     "text": [
      "Population    32356037.00\n",
      "Area            329361.50\n",
      "GDP               1596.25\n",
      "Name: 0.25, dtype: float64\n"
     ]
    }
   ],
   "source": [
    "# Display descriptive statistics for the numerical column (25%)\n",
    "percentile_25 = df[['Population', 'Area', 'GDP']].quantile(0.25)\n",
    "\n",
    "print(percentile_25)"
   ]
  },
  {
   "cell_type": "code",
   "execution_count": 8,
   "metadata": {},
   "outputs": [
    {
     "name": "stdout",
     "output_type": "stream",
     "text": [
      "Population    60501718.0\n",
      "Area            377835.0\n",
      "GDP               1824.0\n",
      "Name: 0.5, dtype: float64\n"
     ]
    }
   ],
   "source": [
    "# Display descriptive statistics for the numerical column (50%)\n",
    "percentile_50 = df[['Population', 'Area', 'GDP']].quantile(0.5)\n",
    "\n",
    "print(percentile_50)"
   ]
  },
  {
   "cell_type": "code",
   "execution_count": 9,
   "metadata": {},
   "outputs": [
    {
     "name": "stdout",
     "output_type": "stream",
     "text": [
      "Population    104283326.5\n",
      "Area            4713910.0\n",
      "GDP                3062.0\n",
      "Name: 0.75, dtype: float64\n"
     ]
    }
   ],
   "source": [
    "# Display descriptive statistics for the numerical column (75%)\n",
    "percentile_75 = df[['Population', 'Area', 'GDP']].quantile(0.75)\n",
    "\n",
    "print(percentile_75)"
   ]
  },
  {
   "cell_type": "code",
   "execution_count": 10,
   "metadata": {},
   "outputs": [
    {
     "name": "stdout",
     "output_type": "stream",
     "text": [
      "Population    208360000.0\n",
      "Area            9984670.0\n",
      "GDP                4938.0\n",
      "dtype: float64\n"
     ]
    }
   ],
   "source": [
    "# Display descriptive statistics for the numerical column (max)\n",
    "max_values = df[['Population', 'Area', 'GDP']].max()\n",
    "\n",
    "print(max_values)"
   ]
  },
  {
   "cell_type": "code",
   "execution_count": 11,
   "metadata": {},
   "outputs": [
    {
     "data": {
      "text/html": [
       "<div>\n",
       "<style scoped>\n",
       "    .dataframe tbody tr th:only-of-type {\n",
       "        vertical-align: middle;\n",
       "    }\n",
       "\n",
       "    .dataframe tbody tr th {\n",
       "        vertical-align: top;\n",
       "    }\n",
       "\n",
       "    .dataframe thead th {\n",
       "        text-align: right;\n",
       "    }\n",
       "</style>\n",
       "<table border=\"1\" class=\"dataframe\">\n",
       "  <thead>\n",
       "    <tr style=\"text-align: right;\">\n",
       "      <th></th>\n",
       "      <th>Name</th>\n",
       "      <th>Population</th>\n",
       "      <th>Area</th>\n",
       "      <th>GDP</th>\n",
       "      <th>Currency</th>\n",
       "    </tr>\n",
       "  </thead>\n",
       "  <tbody>\n",
       "    <tr>\n",
       "      <th>3</th>\n",
       "      <td>Italy</td>\n",
       "      <td>60501718</td>\n",
       "      <td>301338</td>\n",
       "      <td>1850.0</td>\n",
       "      <td>EUR</td>\n",
       "    </tr>\n",
       "    <tr>\n",
       "      <th>4</th>\n",
       "      <td>Brazilia</td>\n",
       "      <td>208360000</td>\n",
       "      <td>8515770</td>\n",
       "      <td>1798.0</td>\n",
       "      <td>REAL</td>\n",
       "    </tr>\n",
       "    <tr>\n",
       "      <th>5</th>\n",
       "      <td>Taiwan</td>\n",
       "      <td>23938272</td>\n",
       "      <td>36197</td>\n",
       "      <td>744.0</td>\n",
       "      <td>NTD</td>\n",
       "    </tr>\n",
       "    <tr>\n",
       "      <th>6</th>\n",
       "      <td>Venezuela</td>\n",
       "      <td>28208977</td>\n",
       "      <td>912050</td>\n",
       "      <td>NaN</td>\n",
       "      <td>VED</td>\n",
       "    </tr>\n",
       "  </tbody>\n",
       "</table>\n",
       "</div>"
      ],
      "text/plain": [
       "        Name  Population     Area     GDP Currency\n",
       "3      Italy    60501718   301338  1850.0      EUR\n",
       "4   Brazilia   208360000  8515770  1798.0     REAL\n",
       "5     Taiwan    23938272    36197   744.0      NTD\n",
       "6  Venezuela    28208977   912050     NaN      VED"
      ]
     },
     "execution_count": 11,
     "metadata": {},
     "output_type": "execute_result"
    }
   ],
   "source": [
    "# Show the last 4 rows of the data frame.\n",
    "df.tail(4)"
   ]
  },
  {
   "cell_type": "code",
   "execution_count": 12,
   "metadata": {},
   "outputs": [
    {
     "data": {
      "text/html": [
       "<div>\n",
       "<style scoped>\n",
       "    .dataframe tbody tr th:only-of-type {\n",
       "        vertical-align: middle;\n",
       "    }\n",
       "\n",
       "    .dataframe tbody tr th {\n",
       "        vertical-align: top;\n",
       "    }\n",
       "\n",
       "    .dataframe thead th {\n",
       "        text-align: right;\n",
       "    }\n",
       "</style>\n",
       "<table border=\"1\" class=\"dataframe\">\n",
       "  <thead>\n",
       "    <tr style=\"text-align: right;\">\n",
       "      <th></th>\n",
       "      <th>Name</th>\n",
       "      <th>Population</th>\n",
       "      <th>Area</th>\n",
       "      <th>GDP</th>\n",
       "      <th>Currency</th>\n",
       "    </tr>\n",
       "  </thead>\n",
       "  <tbody>\n",
       "    <tr>\n",
       "      <th>0</th>\n",
       "      <td>Germany</td>\n",
       "      <td>82521653</td>\n",
       "      <td>357385</td>\n",
       "      <td>3466.0</td>\n",
       "      <td>EUR</td>\n",
       "    </tr>\n",
       "    <tr>\n",
       "      <th>3</th>\n",
       "      <td>Italy</td>\n",
       "      <td>60501718</td>\n",
       "      <td>301338</td>\n",
       "      <td>1850.0</td>\n",
       "      <td>EUR</td>\n",
       "    </tr>\n",
       "  </tbody>\n",
       "</table>\n",
       "</div>"
      ],
      "text/plain": [
       "      Name  Population    Area     GDP Currency\n",
       "0  Germany    82521653  357385  3466.0      EUR\n",
       "3    Italy    60501718  301338  1850.0      EUR"
      ]
     },
     "execution_count": 12,
     "metadata": {},
     "output_type": "execute_result"
    }
   ],
   "source": [
    "# Show all the rows of countries that have the EURO\n",
    "df.loc[df['Currency'] == 'EUR']"
   ]
  },
  {
   "cell_type": "code",
   "execution_count": 13,
   "metadata": {},
   "outputs": [
    {
     "name": "stdout",
     "output_type": "stream",
     "text": [
      "        Name Currency\n",
      "0    Germany      EUR\n",
      "1      Japan      YEN\n",
      "2     Canada      CAD\n",
      "3      Italy      EUR\n",
      "4   Brazilia     REAL\n",
      "5     Taiwan      NTD\n",
      "6  Venezuela      VED\n"
     ]
    }
   ],
   "source": [
    "# Show only name and Currency in a new data frame\n",
    "name_currency_df = df.loc[:, ['Name', 'Currency']]\n",
    "\n",
    "print(name_currency_df)\n"
   ]
  },
  {
   "cell_type": "code",
   "execution_count": 14,
   "metadata": {},
   "outputs": [
    {
     "name": "stdout",
     "output_type": "stream",
     "text": [
      "      Name  Population    Area     GDP Currency\n",
      "0  Germany    82521653  357385  3466.0      EUR\n",
      "1    Japan   126045000  377835  4938.0      YEN\n"
     ]
    }
   ],
   "source": [
    "# Show only the rows/countries that have more than 2000 GDP\n",
    "high_gdp_countries = df.loc[df['GDP'] > 2000]\n",
    "\n",
    "print(high_gdp_countries)\n"
   ]
  },
  {
   "cell_type": "code",
   "execution_count": 15,
   "metadata": {},
   "outputs": [
    {
     "name": "stdout",
     "output_type": "stream",
     "text": [
      "      Name  Population    Area     GDP Currency\n",
      "0  Germany    82521653  357385  3466.0      EUR\n",
      "1    Japan   126045000  377835  4938.0      YEN\n",
      "3    Italy    60501718  301338  1850.0      EUR\n"
     ]
    }
   ],
   "source": [
    "# Select all countries where with inhabitants between 50 and 150 Mio\n",
    "selected_countries = df[(df['Population'] >= 50000000) & (df['Population'] <= 150000000)]\n",
    "\n",
    "print(selected_countries)\n"
   ]
  },
  {
   "cell_type": "code",
   "execution_count": 16,
   "metadata": {},
   "outputs": [
    {
     "data": {
      "text/plain": [
       "2387.5"
      ]
     },
     "execution_count": 16,
     "metadata": {},
     "output_type": "execute_result"
    }
   ],
   "source": [
    "# Calculate the GDP average (ignore the missing value)\n",
    "df['GDP'].mean()"
   ]
  },
  {
   "cell_type": "code",
   "execution_count": 17,
   "metadata": {},
   "outputs": [
    {
     "name": "stdout",
     "output_type": "stream",
     "text": [
      "Average GDP (missing values treated as 0): 2046.4285714285713\n"
     ]
    }
   ],
   "source": [
    "# Calculate the GDP average (missing value treated as 0)\n",
    "\n",
    "# Replace missing values in the 'GDP' column with 0\n",
    "df['GDP filled'] = df['GDP'].fillna(0)\n",
    "\n",
    "# Calculate the average GDP, treating missing values as 0\n",
    "average_gdp = df['GDP filled'].mean()\n",
    "\n",
    "print(\"Average GDP (missing values treated as 0):\", average_gdp)\n"
   ]
  },
  {
   "cell_type": "code",
   "execution_count": 18,
   "metadata": {},
   "outputs": [
    {
     "name": "stdout",
     "output_type": "stream",
     "text": [
      "        Name  Population     Area     GDP Currency  GDP filled  \\\n",
      "0    Germany    82521653   357385  3466.0      EUR      3466.0   \n",
      "1      Japan   126045000   377835  4938.0      YEN      4938.0   \n",
      "2     Canada    36503097  9984670  1529.0      CAD      1529.0   \n",
      "3      Italy    60501718   301338  1850.0      EUR      1850.0   \n",
      "4   Brazilia   208360000  8515770  1798.0     REAL      1798.0   \n",
      "5     Taiwan    23938272    36197   744.0      NTD       744.0   \n",
      "6  Venezuela    28208977   912050     NaN      VED         0.0   \n",
      "\n",
      "   Population Density  \n",
      "0          230.904075  \n",
      "1          333.597999  \n",
      "2            3.655914  \n",
      "3          200.776928  \n",
      "4           24.467547  \n",
      "5          661.333039  \n",
      "6           30.929200  \n"
     ]
    }
   ],
   "source": [
    "# Calculate the population density (population/area) of all countries and add as new column\n",
    "df['Population Density'] = df['Population'] / df['Area']\n",
    "\n",
    "print(df)"
   ]
  },
  {
   "cell_type": "code",
   "execution_count": 19,
   "metadata": {},
   "outputs": [
    {
     "name": "stdout",
     "output_type": "stream",
     "text": [
      "        Name  Population     Area     GDP Currency  GDP filled  \\\n",
      "4   Brazilia   208360000  8515770  1798.0     REAL      1798.0   \n",
      "2     Canada    36503097  9984670  1529.0      CAD      1529.0   \n",
      "0    Germany    82521653   357385  3466.0      EUR      3466.0   \n",
      "3      Italy    60501718   301338  1850.0      EUR      1850.0   \n",
      "1      Japan   126045000   377835  4938.0      YEN      4938.0   \n",
      "5     Taiwan    23938272    36197   744.0      NTD       744.0   \n",
      "6  Venezuela    28208977   912050     NaN      VED         0.0   \n",
      "\n",
      "   Population Density  \n",
      "4           24.467547  \n",
      "2            3.655914  \n",
      "0          230.904075  \n",
      "3          200.776928  \n",
      "1          333.597999  \n",
      "5          661.333039  \n",
      "6           30.929200  \n"
     ]
    }
   ],
   "source": [
    "# Sort by country name alphabetically\n",
    "sorted_df = df.sort_values(by='Name')\n",
    "\n",
    "print(sorted_df)"
   ]
  },
  {
   "cell_type": "code",
   "execution_count": 20,
   "metadata": {},
   "outputs": [
    {
     "name": "stdout",
     "output_type": "stream",
     "text": [
      "        Name  Population   Area     GDP Currency  GDP filled  \\\n",
      "0    Germany    82521653  SMALL  3466.0      EUR      3466.0   \n",
      "1      Japan   126045000  SMALL  4938.0      YEN      4938.0   \n",
      "2     Canada    36503097    BIG  1529.0      CAD      1529.0   \n",
      "3      Italy    60501718  SMALL  1850.0      EUR      1850.0   \n",
      "4   Brazilia   208360000    BIG  1798.0     REAL      1798.0   \n",
      "5     Taiwan    23938272  SMALL   744.0      NTD       744.0   \n",
      "6  Venezuela    28208977  SMALL     NaN      VED         0.0   \n",
      "\n",
      "   Population Density  \n",
      "0          230.904075  \n",
      "1          333.597999  \n",
      "2            3.655914  \n",
      "3          200.776928  \n",
      "4           24.467547  \n",
      "5          661.333039  \n",
      "6           30.929200  \n"
     ]
    }
   ],
   "source": [
    "# Create a new data frame from the original where the area is changed: all countries with > 1000000 get BIG and <= 1000000 get SMALL in the cell replaced!\n",
    "new_df = df.copy()\n",
    "\n",
    "new_df['Area'] = new_df['Area'].apply(lambda x: 'BIG' if x > 1000000 else 'SMALL')\n",
    "\n",
    "print(new_df)\n"
   ]
  }
 ],
 "metadata": {
  "kernelspec": {
   "display_name": "base",
   "language": "python",
   "name": "python3"
  },
  "language_info": {
   "codemirror_mode": {
    "name": "ipython",
    "version": 3
   },
   "file_extension": ".py",
   "mimetype": "text/x-python",
   "name": "python",
   "nbconvert_exporter": "python",
   "pygments_lexer": "ipython3",
   "version": "3.9.13"
  }
 },
 "nbformat": 4,
 "nbformat_minor": 2
}
